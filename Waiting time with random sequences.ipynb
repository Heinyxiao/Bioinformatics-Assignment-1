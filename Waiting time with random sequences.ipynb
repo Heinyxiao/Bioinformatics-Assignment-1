{
 "cells": [
  {
   "cell_type": "code",
   "execution_count": 5,
   "metadata": {},
   "outputs": [
    {
     "name": "stdout",
     "output_type": "stream",
     "text": [
      "RR\n"
     ]
    }
   ],
   "source": [
    "import random\n",
    "seq = \"\"\n",
    "while len(seq)<2: # Generates random sequence length = 2\n",
    "    r = random.random() # Generates a number between 0~1\n",
    "    if  r<0.5: # define possibilities of R and Y\n",
    "        seq = seq + \"R\"\n",
    "    else:\n",
    "        seq = seq + \"Y\"\n",
    "print(seq)"
   ]
  },
  {
   "cell_type": "code",
   "execution_count": 6,
   "metadata": {},
   "outputs": [
    {
     "name": "stdout",
     "output_type": "stream",
     "text": [
      "6.105\n"
     ]
    }
   ],
   "source": [
    "import numpy as np\n",
    "from random import random\n",
    "def waiting_time(probability, pattern) :\n",
    "    pattern_size = len(pattern)\n",
    "    sequence =''\n",
    "    while len(sequence) < pattern_size or sequence[-pattern_size:] != pattern :\n",
    "        ran = random() # Sampling a random number\n",
    "        p = 0\n",
    "        for letter in probability :\n",
    "            p += probability[letter]\n",
    "            if ran<p: # If ran is less than p, then add R to the sequence; If ran is not less than q, then calculate the sum of p and q, and compare with ran, if ran<p+q, then add Y\n",
    "                sequence += letter\n",
    "                break\n",
    "    return len(sequence)\n",
    "# Composition\n",
    "probability = dict()\n",
    "probability['R']=0.5\n",
    "probability['Y']=0.5\n",
    "pattern = seq # The pattern equals to the sequence we generated in last panel\n",
    "n = 1000 \n",
    "waiting_times = [waiting_time(probability, pattern) for i in range(n)] # Generate 1000 results \n",
    "print(np.mean(waiting_times)) # Calculate the average waiting time"
   ]
  },
  {
   "cell_type": "code",
   "execution_count": null,
   "metadata": {},
   "outputs": [],
   "source": [
    "If seq = \"RR\": \n",
    "    if np.mean(waiting_times)> "
   ]
  }
 ],
 "metadata": {
  "kernelspec": {
   "display_name": "Python 3",
   "language": "python",
   "name": "python3"
  },
  "language_info": {
   "codemirror_mode": {
    "name": "ipython",
    "version": 3
   },
   "file_extension": ".py",
   "mimetype": "text/x-python",
   "name": "python",
   "nbconvert_exporter": "python",
   "pygments_lexer": "ipython3",
   "version": "3.8.5"
  }
 },
 "nbformat": 4,
 "nbformat_minor": 4
}
