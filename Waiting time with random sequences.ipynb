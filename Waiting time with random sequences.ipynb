{
 "cells": [
  {
   "cell_type": "code",
   "execution_count": 1,
   "metadata": {},
   "outputs": [
    {
     "name": "stdout",
     "output_type": "stream",
     "text": [
      "YY\n"
     ]
    }
   ],
   "source": [
    "import random\n",
    "seq = \"\"\n",
    "while len(seq)<2: # Generates random sequence length = 2\n",
    "    r = random.random() # Generates a number between 0~1\n",
    "    if  r<0.5:\n",
    "        seq = seq + \"R\"\n",
    "    else:\n",
    "        seq = seq + \"Y\"\n",
    "print(seq)"
   ]
  },
  {
   "cell_type": "code",
   "execution_count": 2,
   "metadata": {},
   "outputs": [
    {
     "name": "stdout",
     "output_type": "stream",
     "text": [
      "6.078\n"
     ]
    }
   ],
   "source": [
    "import numpy as np\n",
    "from random import random\n",
    "def waiting_time(probability, pattern) :\n",
    "    pattern_size = len(pattern)\n",
    "    sequence =''\n",
    "    while len(sequence) < pattern_size or sequence[-pattern_size:] != pattern :\n",
    "        ran = random()\n",
    "        p = 0\n",
    "        for letter in probability :\n",
    "            p += probability[letter]\n",
    "            if ran<p:\n",
    "                sequence += letter\n",
    "                break\n",
    "    return len(sequence)\n",
    "# Composition\n",
    "probability = dict()\n",
    "probability['R']=0.5\n",
    "probability['Y']=0.5\n",
    "pattern = seq\n",
    "n = 1000\n",
    "waiting_times = [waiting_time(probability, pattern) for i in range(n)]\n",
    "print(np.mean(waiting_times))"
   ]
  },
  {
   "cell_type": "code",
   "execution_count": null,
   "metadata": {},
   "outputs": [],
   "source": []
  }
 ],
 "metadata": {
  "kernelspec": {
   "display_name": "Python 3",
   "language": "python",
   "name": "python3"
  },
  "language_info": {
   "codemirror_mode": {
    "name": "ipython",
    "version": 3
   },
   "file_extension": ".py",
   "mimetype": "text/x-python",
   "name": "python",
   "nbconvert_exporter": "python",
   "pygments_lexer": "ipython3",
   "version": "3.8.5"
  }
 },
 "nbformat": 4,
 "nbformat_minor": 4
}
